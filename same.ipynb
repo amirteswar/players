{
 "cells": [
  {
   "cell_type": "code",
   "execution_count": null,
   "id": "e757d595",
   "metadata": {},
   "outputs": [],
   "source": [
    "import torch\n",
    "import os\n",
    "from torchvision import transforms\n",
    "from PIL import Image\n",
    "from model import DogSimilarityClassifier\n",
    "from cnn import ResNetFeatureExtractor\n",
    "import torch.nn.functional as F\n",
    "import time"
   ]
  },
  {
   "cell_type": "code",
   "execution_count": null,
   "id": "b27c78a9",
   "metadata": {},
   "outputs": [],
   "source": [
    "# Record start time\n",
    "start_time = time.time()"
   ]
  },
  {
   "cell_type": "code",
   "execution_count": null,
   "id": "567454af",
   "metadata": {},
   "outputs": [],
   "source": [
    "# Define device\n",
    "device = torch.device(\"cuda\" if torch.cuda.is_available() else \"cpu\")\n",
    "print(f\"Using device: {device}\")"
   ]
  },
  {
   "cell_type": "code",
   "execution_count": null,
   "id": "779200b8",
   "metadata": {},
   "outputs": [],
   "source": [
    "# Initialize the feature extractor\n",
    "feature_extractor = ResNetFeatureExtractor().to(device)"
   ]
  },
  {
   "cell_type": "code",
   "execution_count": null,
   "id": "04f2eed8",
   "metadata": {},
   "outputs": [],
   "source": [
    "# Load the feature extractor state dict\n",
    "print(\"Loading feature extractor state_dict with strict=False\")\n",
    "feature_extractor_state_dict = torch.load(\"models/resnet_feature_extractor.pth\")\n",
    "filtered_feature_extractor_state_dict = {\n",
    "    k: v for k, v in feature_extractor_state_dict.items() \n",
    "    if k in feature_extractor.state_dict()\n",
    "}\n",
    "feature_extractor.load_state_dict(filtered_feature_extractor_state_dict, strict=False)\n",
    "feature_extractor.eval()"
   ]
  },
  {
   "cell_type": "code",
   "execution_count": null,
   "id": "78ef2834",
   "metadata": {},
   "outputs": [],
   "source": [
    "# Initialize the classifier with the loaded feature extractor\n",
    "model = DogSimilarityClassifier(feature_extractor).to(device)"
   ]
  },
  {
   "cell_type": "code",
   "execution_count": null,
   "id": "1e7b40e1",
   "metadata": {},
   "outputs": [],
   "source": [
    "# Load the classifier state dict\n",
    "print(\"Loading classifier state_dict with strict=False\")\n",
    "classifier_state_dict = torch.load(\"models/dog_similarity_resnet50_triplet.pth\")\n",
    "filtered_classifier_state_dict = {\n",
    "    k: v for k, v in classifier_state_dict.items() \n",
    "    if k in model.state_dict()\n",
    "}\n",
    "model.load_state_dict(filtered_classifier_state_dict, strict=False)\n",
    "model.eval()"
   ]
  },
  {
   "cell_type": "code",
   "execution_count": null,
   "id": "76fcc425",
   "metadata": {},
   "outputs": [],
   "source": [
    "# Define transformations\n",
    "transform = transforms.Compose([\n",
    "    transforms.Resize((224, 224)),\n",
    "    transforms.ToTensor(),\n",
    "    transforms.Normalize(mean=[0.485, 0.456, 0.406], std=[0.229, 0.224, 0.225])\n",
    "])"
   ]
  },
  {
   "cell_type": "code",
   "execution_count": null,
   "id": "bb899480",
   "metadata": {
    "lines_to_next_cell": 1
   },
   "outputs": [],
   "source": [
    "# Define the dataset directory\n",
    "dataset_dir = r'E:\\gpu\\Sphase\\samedog6\\data\\football_database'"
   ]
  },
  {
   "cell_type": "code",
   "execution_count": null,
   "id": "c34a18a0",
   "metadata": {
    "lines_to_next_cell": 1
   },
   "outputs": [],
   "source": [
    "def load_and_transform_image(image_path):\n",
    "    \"\"\"Load and transform an image.\"\"\"\n",
    "    image = Image.open(image_path).convert('RGB')\n",
    "    return transform(image).unsqueeze(0).to(device)"
   ]
  },
  {
   "cell_type": "code",
   "execution_count": null,
   "id": "8c9730a7",
   "metadata": {
    "lines_to_next_cell": 1
   },
   "outputs": [],
   "source": [
    "def find_similar_image(image_path):\n",
    "    \"\"\"Find the most similar image in the dataset to the given query image.\"\"\"\n",
    "    query_image = load_and_transform_image(image_path)\n",
    "    best_similarity = -1\n",
    "    best_image_path = None\n",
    "\n",
    "    for root, _, files in os.walk(dataset_dir):\n",
    "        for file in files:\n",
    "            if file.endswith(('jpg', 'jpeg', 'png')):\n",
    "                dataset_image_path = os.path.join(root, file)\n",
    "                dataset_image = load_and_transform_image(dataset_image_path)\n",
    "                \n",
    "                with torch.no_grad():\n",
    "                    query_features = model.features(query_image)\n",
    "                    dataset_features = model.features(dataset_image)\n",
    "                    similarity = F.cosine_similarity(query_features, dataset_features).item()\n",
    "                \n",
    "                if similarity > best_similarity:\n",
    "                    best_similarity = similarity\n",
    "                    best_image_path = dataset_image_path\n",
    "    \n",
    "    return best_image_path, best_similarity"
   ]
  },
  {
   "cell_type": "code",
   "execution_count": null,
   "id": "84ac067c",
   "metadata": {},
   "outputs": [],
   "source": [
    "def batch_compute_similarity(query_image_path, dataset_dir, batch_size=32):\n",
    "    \"\"\"Compute similarity scores in batches for efficiency.\"\"\"\n",
    "    query_image = load_and_transform_image(query_image_path)\n",
    "    image_paths = [\n",
    "        os.path.join(root, file)\n",
    "        for root, _, files in os.walk(dataset_dir)\n",
    "        for file in files if file.endswith(('jpg', 'jpeg', 'png'))\n",
    "    ]\n",
    "\n",
    "    best_similarity = -1\n",
    "    best_image_path = None\n",
    "\n",
    "    for i in range(0, len(image_paths), batch_size):\n",
    "        batch_paths = image_paths[i:i + batch_size]\n",
    "        batch_images = [load_and_transform_image(p) for p in batch_paths]\n",
    "        batch_images = torch.cat(batch_images, dim=0)\n",
    "\n",
    "        with torch.no_grad():\n",
    "            query_features = model.features(query_image)\n",
    "            batch_features = model.features(batch_images)\n",
    "            batch_similarity = F.cosine_similarity(query_features, batch_features).cpu().numpy()\n",
    "        \n",
    "        max_similarity_index = batch_similarity.argmax()\n",
    "        if batch_similarity[max_similarity_index] > best_similarity:\n",
    "            best_similarity = batch_similarity[max_similarity_index]\n",
    "            best_image_path = batch_paths[max_similarity_index]\n",
    "\n",
    "    return best_image_path, best_similarity"
   ]
  },
  {
   "cell_type": "code",
   "execution_count": null,
   "id": "233f42c4",
   "metadata": {},
   "outputs": [],
   "source": [
    "# Example usage\n",
    "query_image_path = r'E:\\gpu\\Sphase\\samedog6\\data\\test\\test_4.jpg'\n",
    "similar_image_path, similarity_score = batch_compute_similarity(query_image_path, dataset_dir)\n",
    "print(f\"Most similar image path: {similar_image_path}\")\n",
    "print(f\"Similarity score: {similarity_score}\")"
   ]
  },
  {
   "cell_type": "code",
   "execution_count": null,
   "id": "9fdbfa84",
   "metadata": {},
   "outputs": [],
   "source": [
    "# Record end time\n",
    "end_time = time.time()\n",
    "total_time = end_time - start_time\n",
    "print(f\"Total training time: {total_time:.2f} seconds\")"
   ]
  }
 ],
 "metadata": {
  "jupytext": {
   "cell_metadata_filter": "-all",
   "main_language": "python",
   "notebook_metadata_filter": "-all"
  }
 },
 "nbformat": 4,
 "nbformat_minor": 5
}
